{
 "cells": [
  {
   "cell_type": "code",
   "execution_count": 1,
   "metadata": {},
   "outputs": [],
   "source": [
    "import pandas as pd\n",
    "import numpy as np"
   ]
  },
  {
   "cell_type": "code",
   "execution_count": 2,
   "metadata": {},
   "outputs": [],
   "source": [
    "df = pd.read_csv('../data/exploratoryData.csv')"
   ]
  },
  {
   "cell_type": "code",
   "execution_count": 3,
   "metadata": {},
   "outputs": [
    {
     "data": {
      "text/plain": [
       "(484506, 21)"
      ]
     },
     "execution_count": 3,
     "metadata": {},
     "output_type": "execute_result"
    }
   ],
   "source": [
    "df.shape"
   ]
  },
  {
   "cell_type": "markdown",
   "metadata": {},
   "source": [
    "# Clean Dates & Time"
   ]
  },
  {
   "cell_type": "code",
   "execution_count": 4,
   "metadata": {
    "collapsed": true
   },
   "outputs": [],
   "source": [
    "# SearchDate is the time of search event\n",
    "# What year and month does the data range from?\n",
    "import datetime\n",
    "\n",
    "'''\n",
    "converts string date to date time object\n",
    "'''\n",
    "def get_date_time(str_date):\n",
    "    if len(str_date) == 0:\n",
    "        return 'None'\n",
    "    else:\n",
    "        dt_format = \"%Y-%m-%d %H:%M:%S.%f\"\n",
    "        return datetime.datetime.strptime(str_date, dt_format)"
   ]
  },
  {
   "cell_type": "code",
   "execution_count": 5,
   "metadata": {
    "collapsed": true
   },
   "outputs": [],
   "source": [
    "df['SearchDate'] = df['SearchDate'].map(lambda x:get_date_time(x))"
   ]
  },
  {
   "cell_type": "code",
   "execution_count": 6,
   "metadata": {
    "collapsed": true
   },
   "outputs": [],
   "source": [
    "df['year'] = df['SearchDate'].map(lambda x: x.year)\n",
    "df['month'] = df['SearchDate'].map(lambda x: x.month)\n",
    "df['day'] = df['SearchDate'].map(lambda x: x.day)\n",
    "df['weekday'] = df['SearchDate'].map(lambda x: x.weekday())\n",
    "df['hour'] = df['SearchDate'].map(lambda x: x.hour)"
   ]
  },
  {
   "cell_type": "code",
   "execution_count": null,
   "metadata": {
    "collapsed": true
   },
   "outputs": [],
   "source": []
  },
  {
   "cell_type": "markdown",
   "metadata": {},
   "source": [
    "# What time of day do most clicks occur?"
   ]
  },
  {
   "cell_type": "code",
   "execution_count": 7,
   "metadata": {},
   "outputs": [],
   "source": [
    "hour_day_clicks = df.groupby([\"weekday\", \"hour\"]).sum()\n",
    "hour_day_df = hour_day_clicks.reset_index()[['weekday','hour','IsClick']]"
   ]
  },
  {
   "cell_type": "code",
   "execution_count": 8,
   "metadata": {
    "collapsed": true
   },
   "outputs": [],
   "source": [
    "# Save DataFrame to csv so we can plot in a heatmap\n",
    "#hour_day_df.to_csv('heatmap_data.csv')"
   ]
  },
  {
   "cell_type": "markdown",
   "metadata": {},
   "source": [
    "# How many users enter a search query vs. just filtering by category?"
   ]
  },
  {
   "cell_type": "code",
   "execution_count": 23,
   "metadata": {},
   "outputs": [],
   "source": [
    "# DataFrame including only users who entered a search query\n",
    "search_users_df = df[pd.notnull(df['SearchQuery'])]"
   ]
  },
  {
   "cell_type": "code",
   "execution_count": 10,
   "metadata": {},
   "outputs": [
    {
     "name": "stderr",
     "output_type": "stream",
     "text": [
      "/anaconda/lib/python2.7/site-packages/ipykernel/__main__.py:2: SettingWithCopyWarning: \n",
      "A value is trying to be set on a copy of a slice from a DataFrame\n",
      "\n",
      "See the caveats in the documentation: http://pandas.pydata.org/pandas-docs/stable/indexing.html#indexing-view-versus-copy\n",
      "  from ipykernel import kernelapp as app\n"
     ]
    }
   ],
   "source": [
    "# Drop unnecessary column\n",
    "search_users_df.drop('Unnamed: 0',axis=1,inplace=True)"
   ]
  },
  {
   "cell_type": "code",
   "execution_count": 24,
   "metadata": {},
   "outputs": [],
   "source": [
    "# Count total unique search query users\n",
    "num_unique_search_users = len(np.unique(search_users_df['UserID']))"
   ]
  },
  {
   "cell_type": "code",
   "execution_count": 25,
   "metadata": {},
   "outputs": [],
   "source": [
    "# Count total unique users in entire sample\n",
    "total_unique_users = len(np.unique(df['UserID']))"
   ]
  },
  {
   "cell_type": "code",
   "execution_count": 26,
   "metadata": {
    "collapsed": true
   },
   "outputs": [],
   "source": [
    "# Percentage of users who enter a search query\n",
    "search_user_percentage = np.round(num_unique_search_users / float(total_unique_users) * 100,0)"
   ]
  },
  {
   "cell_type": "code",
   "execution_count": 27,
   "metadata": {},
   "outputs": [],
   "source": [
    "non_search_user_percentage = 100 - search_user_percentage"
   ]
  },
  {
   "cell_type": "code",
   "execution_count": 28,
   "metadata": {},
   "outputs": [],
   "source": [
    "search_filter_percent_df = pd.DataFrame({'User_Type':['Search Users','Non-Search Users'],'Percent':[search_user_percentage,non_search_user_percentage]})"
   ]
  },
  {
   "cell_type": "code",
   "execution_count": 29,
   "metadata": {},
   "outputs": [],
   "source": [
    "# Save as csv and make a pie chart in d3\n",
    "search_filter_percent_df.to_csv('data/search_filter_percent.csv')"
   ]
  },
  {
   "cell_type": "markdown",
   "metadata": {},
   "source": [
    "# How does the Ad Click Rate for Search Users compare to the rest?"
   ]
  },
  {
   "cell_type": "code",
   "execution_count": 7,
   "metadata": {},
   "outputs": [],
   "source": [
    "# Get DF of only unique UserID\n",
    "distinct_user_df = df.drop_duplicates(subset = 'SearchID')"
   ]
  },
  {
   "cell_type": "code",
   "execution_count": 9,
   "metadata": {},
   "outputs": [],
   "source": [
    "# Get DataFrame of distinct search query users\n",
    "distinct_search_user_df = distinct_user_df[pd.notnull(distinct_user_df['SearchQuery'])]"
   ]
  },
  {
   "cell_type": "code",
   "execution_count": 57,
   "metadata": {
    "collapsed": true
   },
   "outputs": [],
   "source": [
    "# Get search users CTR\n",
    "search_users_ctr = round(distinct_search_user_df['IsClick'].mean()*100,1)"
   ]
  },
  {
   "cell_type": "code",
   "execution_count": 58,
   "metadata": {},
   "outputs": [
    {
     "data": {
      "text/plain": [
       "1.5"
      ]
     },
     "execution_count": 58,
     "metadata": {},
     "output_type": "execute_result"
    }
   ],
   "source": [
    "search_users_ctr"
   ]
  },
  {
   "cell_type": "code",
   "execution_count": null,
   "metadata": {
    "collapsed": true
   },
   "outputs": [],
   "source": []
  },
  {
   "cell_type": "code",
   "execution_count": 13,
   "metadata": {
    "collapsed": true
   },
   "outputs": [],
   "source": [
    "# Get DF of users who dont enter a search query\n",
    "non_search_user_df = distinct_user_df[distinct_user_df['SearchQuery'].isnull()]"
   ]
  },
  {
   "cell_type": "code",
   "execution_count": 14,
   "metadata": {},
   "outputs": [],
   "source": [
    "# Get DF of users who only use the filter option\n",
    "filter_users_df = non_search_user_df[pd.notnull(non_search_user_df['SearchParams'])]"
   ]
  },
  {
   "cell_type": "code",
   "execution_count": 55,
   "metadata": {
    "collapsed": true
   },
   "outputs": [],
   "source": [
    "filter_users_ctr = round(filter_users_df['IsClick'].mean()*100,2)"
   ]
  },
  {
   "cell_type": "code",
   "execution_count": 56,
   "metadata": {},
   "outputs": [
    {
     "data": {
      "text/plain": [
       "0.67"
      ]
     },
     "execution_count": 56,
     "metadata": {},
     "output_type": "execute_result"
    }
   ],
   "source": [
    "filter_users_ctr"
   ]
  },
  {
   "cell_type": "code",
   "execution_count": null,
   "metadata": {
    "collapsed": true
   },
   "outputs": [],
   "source": []
  },
  {
   "cell_type": "code",
   "execution_count": 29,
   "metadata": {
    "collapsed": true
   },
   "outputs": [],
   "source": [
    "# Get DF of users who don;t enter a search query or use the filter\n",
    "no_search_filter_user_df = non_search_user_df[non_search_user_df['SearchParams'].isnull()]"
   ]
  },
  {
   "cell_type": "code",
   "execution_count": 53,
   "metadata": {},
   "outputs": [],
   "source": [
    "no_filter_search_ctr = round(no_search_filter_user_df['IsClick'].mean()*100,2)"
   ]
  },
  {
   "cell_type": "code",
   "execution_count": 54,
   "metadata": {},
   "outputs": [
    {
     "data": {
      "text/plain": [
       "0.57"
      ]
     },
     "execution_count": 54,
     "metadata": {},
     "output_type": "execute_result"
    }
   ],
   "source": [
    "no_filter_search_ctr"
   ]
  },
  {
   "cell_type": "code",
   "execution_count": 50,
   "metadata": {},
   "outputs": [],
   "source": [
    "# Create DF of ad click rates for the 3 groups\n",
    "ad_click_rates_df = pd.DataFrame({'User_Type':['Search Users','Filter Users','No Search or Filter'],'Percent':[search_users_ctr,filter_users_ctr,no_filter_search_ctr]})"
   ]
  },
  {
   "cell_type": "code",
   "execution_count": 51,
   "metadata": {},
   "outputs": [
    {
     "data": {
      "text/html": [
       "<div>\n",
       "<table border=\"1\" class=\"dataframe\">\n",
       "  <thead>\n",
       "    <tr style=\"text-align: right;\">\n",
       "      <th></th>\n",
       "      <th>Percent</th>\n",
       "      <th>User_Type</th>\n",
       "    </tr>\n",
       "  </thead>\n",
       "  <tbody>\n",
       "    <tr>\n",
       "      <th>0</th>\n",
       "      <td>1.50</td>\n",
       "      <td>Search Users</td>\n",
       "    </tr>\n",
       "    <tr>\n",
       "      <th>1</th>\n",
       "      <td>0.67</td>\n",
       "      <td>Filter Users</td>\n",
       "    </tr>\n",
       "    <tr>\n",
       "      <th>2</th>\n",
       "      <td>0.57</td>\n",
       "      <td>No Search or Filter</td>\n",
       "    </tr>\n",
       "  </tbody>\n",
       "</table>\n",
       "</div>"
      ],
      "text/plain": [
       "   Percent            User_Type\n",
       "0     1.50         Search Users\n",
       "1     0.67         Filter Users\n",
       "2     0.57  No Search or Filter"
      ]
     },
     "execution_count": 51,
     "metadata": {},
     "output_type": "execute_result"
    }
   ],
   "source": [
    "ad_click_rates_df"
   ]
  },
  {
   "cell_type": "code",
   "execution_count": 52,
   "metadata": {
    "collapsed": true
   },
   "outputs": [],
   "source": [
    "# Save DF as csv to be plotted\n",
    "ad_click_rates_df.to_csv('data/ad_click_rates.csv')"
   ]
  },
  {
   "cell_type": "markdown",
   "metadata": {},
   "source": [
    "# What are the top items users are searching for?"
   ]
  },
  {
   "cell_type": "code",
   "execution_count": 10,
   "metadata": {},
   "outputs": [],
   "source": [
    "top_searches = distinct_search_user_df.groupby('SearchQuery').size().sort_values(ascending=False)"
   ]
  },
  {
   "cell_type": "code",
   "execution_count": 11,
   "metadata": {},
   "outputs": [
    {
     "data": {
      "text/plain": [
       "SearchQuery\n",
       "велосипед                        1297\n",
       "диван                             609\n",
       "коляска                           491\n",
       "туфли                             466\n",
       "сумка                             450\n",
       "детские коляски                   393\n",
       "платье                            374\n",
       "холодильник                       350\n",
       "отдам                             343\n",
       "кроссовки                         327\n",
       "босоножки                         304\n",
       "велосипеды бу                     289\n",
       "ваз                               289\n",
       "iphone 5s                         274\n",
       "кровать                           240\n",
       "детский велосипед                 215\n",
       "iphone 6                          214\n",
       "диван бу                          207\n",
       "самокат                           207\n",
       "шкаф                              199\n",
       "прогулочная коляска               194\n",
       "куртка                            187\n",
       "комод                             186\n",
       "iphone                            179\n",
       "кеды                              173\n",
       "кресло                            170\n",
       "iphone 5                          169\n",
       "стол                              164\n",
       "на ваз                            160\n",
       "балетки                           160\n",
       "                                 ... \n",
       "купить ниву                         1\n",
       "купить ноутбук                      1\n",
       "купить оптом                        1\n",
       "купить пилу                         1\n",
       "купить пылесос                      1\n",
       "купить бу кровать                   1\n",
       "купить бензопилу                    1\n",
       "крышка багажника форд фокус 3       1\n",
       "кулон большой                       1\n",
       "крышки                              1\n",
       "крюк                                1\n",
       "крючки                              1\n",
       "ксенон  бу                          1\n",
       "ксенон бмв                          1\n",
       "ксенона                             1\n",
       "кузов                               1\n",
       "кузов на бычок                      1\n",
       "кузов тойота                        1\n",
       "кулон сердца                        1\n",
       "купить баню                         1\n",
       "кунг б/у                            1\n",
       "кунги                               1\n",
       "купальник  с бахромой               1\n",
       "купальный костюм                    1\n",
       "купальщица                          1\n",
       "купить авто в уфе бу                1\n",
       "купить автомобиль                   1\n",
       "купить акустику                     1\n",
       "купить б/у манитор                  1\n",
       "(world of tanks)                    1\n",
       "dtype: int64"
      ]
     },
     "execution_count": 11,
     "metadata": {},
     "output_type": "execute_result"
    }
   ],
   "source": [
    "top_searches"
   ]
  },
  {
   "cell_type": "code",
   "execution_count": 14,
   "metadata": {},
   "outputs": [],
   "source": [
    "top_searches_df = pd.DataFrame({'Item':top_searches.index,'Count':top_searches.values})"
   ]
  },
  {
   "cell_type": "code",
   "execution_count": 12,
   "metadata": {},
   "outputs": [],
   "source": [
    "russian_translation_dict={\n",
    "'велосипед':'bike',\n",
    "'диван':'sofa',\n",
    "'коляска':'stroller',\n",
    "'детские коляски':'child stroller',\n",
    "'туфли':'shoes',\n",
    "'сумка':'bag'}"
   ]
  },
  {
   "cell_type": "code",
   "execution_count": 15,
   "metadata": {},
   "outputs": [],
   "source": [
    "top_six_searches_df = top_searches_df.head(6)"
   ]
  },
  {
   "cell_type": "code",
   "execution_count": 16,
   "metadata": {},
   "outputs": [
    {
     "name": "stderr",
     "output_type": "stream",
     "text": [
      "/Users/jack/anaconda2/lib/python2.7/site-packages/pandas/core/generic.py:3443: SettingWithCopyWarning: \n",
      "A value is trying to be set on a copy of a slice from a DataFrame\n",
      "\n",
      "See the caveats in the documentation: http://pandas.pydata.org/pandas-docs/stable/indexing.html#indexing-view-versus-copy\n",
      "  self._update_inplace(new_data)\n"
     ]
    }
   ],
   "source": [
    "top_six_searches_df[\"Item\"].replace(russian_translation_dict, inplace=True)"
   ]
  },
  {
   "cell_type": "code",
   "execution_count": 17,
   "metadata": {},
   "outputs": [
    {
     "data": {
      "text/html": [
       "<div>\n",
       "<table border=\"1\" class=\"dataframe\">\n",
       "  <thead>\n",
       "    <tr style=\"text-align: right;\">\n",
       "      <th></th>\n",
       "      <th>Count</th>\n",
       "      <th>Item</th>\n",
       "    </tr>\n",
       "  </thead>\n",
       "  <tbody>\n",
       "    <tr>\n",
       "      <th>0</th>\n",
       "      <td>1297</td>\n",
       "      <td>bike</td>\n",
       "    </tr>\n",
       "    <tr>\n",
       "      <th>1</th>\n",
       "      <td>609</td>\n",
       "      <td>sofa</td>\n",
       "    </tr>\n",
       "    <tr>\n",
       "      <th>2</th>\n",
       "      <td>491</td>\n",
       "      <td>stroller</td>\n",
       "    </tr>\n",
       "    <tr>\n",
       "      <th>3</th>\n",
       "      <td>466</td>\n",
       "      <td>shoes</td>\n",
       "    </tr>\n",
       "    <tr>\n",
       "      <th>4</th>\n",
       "      <td>450</td>\n",
       "      <td>bag</td>\n",
       "    </tr>\n",
       "    <tr>\n",
       "      <th>5</th>\n",
       "      <td>393</td>\n",
       "      <td>child stroller</td>\n",
       "    </tr>\n",
       "  </tbody>\n",
       "</table>\n",
       "</div>"
      ],
      "text/plain": [
       "   Count            Item\n",
       "0   1297            bike\n",
       "1    609            sofa\n",
       "2    491        stroller\n",
       "3    466           shoes\n",
       "4    450             bag\n",
       "5    393  child stroller"
      ]
     },
     "execution_count": 17,
     "metadata": {},
     "output_type": "execute_result"
    }
   ],
   "source": [
    "top_six_searches_df"
   ]
  },
  {
   "cell_type": "code",
   "execution_count": 18,
   "metadata": {
    "collapsed": true
   },
   "outputs": [],
   "source": [
    "top_six_searches_df.to_csv('data/top_queries_count.csv')"
   ]
  },
  {
   "cell_type": "code",
   "execution_count": 24,
   "metadata": {
    "collapsed": true
   },
   "outputs": [],
   "source": [
    "bike_search_percentage = round(top_six_searches_df['Count'][0] / float(top_six_searches_df['Count'].sum())*100,0)"
   ]
  },
  {
   "cell_type": "markdown",
   "metadata": {},
   "source": [
    "# Which ads are being shown most, clicked most and why?"
   ]
  },
  {
   "cell_type": "code",
   "execution_count": 81,
   "metadata": {
    "collapsed": true
   },
   "outputs": [],
   "source": [
    "# Gets all users who searched for a bike\n",
    "bicycle_search_users = df[df['SearchQuery'] == 'велосипед']"
   ]
  },
  {
   "cell_type": "code",
   "execution_count": 82,
   "metadata": {},
   "outputs": [],
   "source": [
    "# Get top shown bike ads\n",
    "top_bicycle_ads = bicycle_search_users['AdID'].value_counts()"
   ]
  },
  {
   "cell_type": "code",
   "execution_count": 105,
   "metadata": {},
   "outputs": [],
   "source": [
    "top_five_bicycle_impressions = top_bicycle_ads[:5]"
   ]
  },
  {
   "cell_type": "code",
   "execution_count": 106,
   "metadata": {
    "collapsed": true
   },
   "outputs": [],
   "source": [
    "bicycle_ads_df = pd.DataFrame({'AdID':top_five_bicycle_impressions.index,'Impressions':top_five_bicycle_impressions.values})"
   ]
  },
  {
   "cell_type": "code",
   "execution_count": null,
   "metadata": {
    "collapsed": true
   },
   "outputs": [],
   "source": []
  },
  {
   "cell_type": "code",
   "execution_count": 84,
   "metadata": {
    "collapsed": true
   },
   "outputs": [],
   "source": [
    "# Get CTR for all bike ads\n",
    "bicycle_ads_CTR = bicycle_search_users.groupby('AdID').mean()['IsClick'].sort_values(ascending=False)"
   ]
  },
  {
   "cell_type": "code",
   "execution_count": 103,
   "metadata": {},
   "outputs": [],
   "source": [
    "# Limit it to the top 6 shown bike ads\n",
    "top_five_bike_CTR = bicycle_ads_CTR.get([6115044,13485461,36414129,33940616,15719085])"
   ]
  },
  {
   "cell_type": "code",
   "execution_count": 104,
   "metadata": {},
   "outputs": [
    {
     "data": {
      "text/plain": [
       "AdID\n",
       "6115044     0.025000\n",
       "13485461    0.000000\n",
       "36414129    0.000000\n",
       "33940616    0.040541\n",
       "15719085    0.014286\n",
       "Name: IsClick, dtype: float64"
      ]
     },
     "execution_count": 104,
     "metadata": {},
     "output_type": "execute_result"
    }
   ],
   "source": [
    "top_five_bike_CTR"
   ]
  },
  {
   "cell_type": "code",
   "execution_count": 110,
   "metadata": {},
   "outputs": [],
   "source": [
    "bicycle_ads_df['CTR'] = np.round(top_five_bike_CTR.values*100,2)"
   ]
  },
  {
   "cell_type": "code",
   "execution_count": 111,
   "metadata": {},
   "outputs": [
    {
     "data": {
      "text/html": [
       "<div>\n",
       "<table border=\"1\" class=\"dataframe\">\n",
       "  <thead>\n",
       "    <tr style=\"text-align: right;\">\n",
       "      <th></th>\n",
       "      <th>AdID</th>\n",
       "      <th>Impressions</th>\n",
       "      <th>CTR</th>\n",
       "    </tr>\n",
       "  </thead>\n",
       "  <tbody>\n",
       "    <tr>\n",
       "      <th>0</th>\n",
       "      <td>6115044</td>\n",
       "      <td>200</td>\n",
       "      <td>2.50</td>\n",
       "    </tr>\n",
       "    <tr>\n",
       "      <th>1</th>\n",
       "      <td>13485461</td>\n",
       "      <td>139</td>\n",
       "      <td>0.00</td>\n",
       "    </tr>\n",
       "    <tr>\n",
       "      <th>2</th>\n",
       "      <td>36414129</td>\n",
       "      <td>93</td>\n",
       "      <td>0.00</td>\n",
       "    </tr>\n",
       "    <tr>\n",
       "      <th>3</th>\n",
       "      <td>21649152</td>\n",
       "      <td>77</td>\n",
       "      <td>4.05</td>\n",
       "    </tr>\n",
       "    <tr>\n",
       "      <th>4</th>\n",
       "      <td>33940616</td>\n",
       "      <td>74</td>\n",
       "      <td>1.43</td>\n",
       "    </tr>\n",
       "  </tbody>\n",
       "</table>\n",
       "</div>"
      ],
      "text/plain": [
       "       AdID  Impressions   CTR\n",
       "0   6115044          200  2.50\n",
       "1  13485461          139  0.00\n",
       "2  36414129           93  0.00\n",
       "3  21649152           77  4.05\n",
       "4  33940616           74  1.43"
      ]
     },
     "execution_count": 111,
     "metadata": {},
     "output_type": "execute_result"
    }
   ],
   "source": [
    "bicycle_ads_df.head()"
   ]
  },
  {
   "cell_type": "code",
   "execution_count": 112,
   "metadata": {
    "collapsed": true
   },
   "outputs": [],
   "source": [
    "bicycle_ads_df.to_csv('top_bike_ads_data.csv')"
   ]
  },
  {
   "cell_type": "code",
   "execution_count": 87,
   "metadata": {
    "collapsed": true
   },
   "outputs": [],
   "source": [
    "# Lets see what these top ads say\n",
    "ad_info = pd.read_csv('AdsInfo.tsv',sep='\\t')"
   ]
  },
  {
   "cell_type": "code",
   "execution_count": 90,
   "metadata": {
    "collapsed": true
   },
   "outputs": [],
   "source": [
    "bicycle_search_users = bicycle_search_users.merge(ad_info,on='AdID',how='left')"
   ]
  },
  {
   "cell_type": "code",
   "execution_count": null,
   "metadata": {
    "collapsed": true
   },
   "outputs": [],
   "source": []
  },
  {
   "cell_type": "markdown",
   "metadata": {},
   "source": [
    "# Is price playing a role in ad CTR?"
   ]
  },
  {
   "cell_type": "code",
   "execution_count": 119,
   "metadata": {
    "collapsed": true
   },
   "outputs": [],
   "source": [
    "# Convert RUssian ruble to dollar\n",
    "bicycle_search_users['USD'] = np.round(bicycle_search_users['Price'] * 0.017,0)"
   ]
  },
  {
   "cell_type": "code",
   "execution_count": 123,
   "metadata": {
    "collapsed": true
   },
   "outputs": [],
   "source": [
    "# get all bikes and check price distribution\n",
    "# Which price point has the most clicks?\n",
    "bins = np.arange(min(bicycle_search_users['USD']), max(bicycle_search_users['USD']), 50)"
   ]
  },
  {
   "cell_type": "code",
   "execution_count": 124,
   "metadata": {
    "collapsed": true
   },
   "outputs": [],
   "source": [
    "bicycle_search_users['price_bin'] = pd.cut(bicycle_search_users['USD'], bins)"
   ]
  },
  {
   "cell_type": "code",
   "execution_count": 125,
   "metadata": {},
   "outputs": [
    {
     "data": {
      "text/html": [
       "<div>\n",
       "<table border=\"1\" class=\"dataframe\">\n",
       "  <thead>\n",
       "    <tr style=\"text-align: right;\">\n",
       "      <th></th>\n",
       "      <th>Unnamed: 0</th>\n",
       "      <th>SearchID</th>\n",
       "      <th>AdID</th>\n",
       "      <th>Position</th>\n",
       "      <th>ObjectType</th>\n",
       "      <th>HistCTR</th>\n",
       "      <th>IsClick</th>\n",
       "      <th>SearchDate</th>\n",
       "      <th>IPID</th>\n",
       "      <th>UserID</th>\n",
       "      <th>...</th>\n",
       "      <th>weekday</th>\n",
       "      <th>hour</th>\n",
       "      <th>LocationID_y</th>\n",
       "      <th>CategoryID_y</th>\n",
       "      <th>Params</th>\n",
       "      <th>Price</th>\n",
       "      <th>Title</th>\n",
       "      <th>IsContext</th>\n",
       "      <th>USD</th>\n",
       "      <th>price_bin</th>\n",
       "    </tr>\n",
       "  </thead>\n",
       "  <tbody>\n",
       "    <tr>\n",
       "      <th>0</th>\n",
       "      <td>89</td>\n",
       "      <td>57</td>\n",
       "      <td>12340121</td>\n",
       "      <td>7</td>\n",
       "      <td>3</td>\n",
       "      <td>0.003769</td>\n",
       "      <td>0</td>\n",
       "      <td>2015-05-07 19:01:12</td>\n",
       "      <td>316678</td>\n",
       "      <td>2422934</td>\n",
       "      <td>...</td>\n",
       "      <td>3</td>\n",
       "      <td>19</td>\n",
       "      <td>NaN</td>\n",
       "      <td>4</td>\n",
       "      <td>{156:'Горные'}</td>\n",
       "      <td>31145</td>\n",
       "      <td>Горный велосипед Head Troy 2 26\" (2014)</td>\n",
       "      <td>1</td>\n",
       "      <td>529</td>\n",
       "      <td>(502, 552]</td>\n",
       "    </tr>\n",
       "    <tr>\n",
       "      <th>1</th>\n",
       "      <td>90</td>\n",
       "      <td>57</td>\n",
       "      <td>19750772</td>\n",
       "      <td>1</td>\n",
       "      <td>3</td>\n",
       "      <td>0.025855</td>\n",
       "      <td>0</td>\n",
       "      <td>2015-05-07 19:01:12</td>\n",
       "      <td>316678</td>\n",
       "      <td>2422934</td>\n",
       "      <td>...</td>\n",
       "      <td>3</td>\n",
       "      <td>19</td>\n",
       "      <td>NaN</td>\n",
       "      <td>4</td>\n",
       "      <td>{156:'Дорожные'}</td>\n",
       "      <td>10690</td>\n",
       "      <td>Велосипед Forward Volcano 365 RS35/TY18 Black</td>\n",
       "      <td>1</td>\n",
       "      <td>182</td>\n",
       "      <td>(152, 202]</td>\n",
       "    </tr>\n",
       "    <tr>\n",
       "      <th>2</th>\n",
       "      <td>431</td>\n",
       "      <td>266</td>\n",
       "      <td>3177885</td>\n",
       "      <td>1</td>\n",
       "      <td>3</td>\n",
       "      <td>0.006842</td>\n",
       "      <td>0</td>\n",
       "      <td>2015-05-15 16:20:04</td>\n",
       "      <td>1128821</td>\n",
       "      <td>352247</td>\n",
       "      <td>...</td>\n",
       "      <td>4</td>\n",
       "      <td>16</td>\n",
       "      <td>NaN</td>\n",
       "      <td>4</td>\n",
       "      <td>{156:'Дорожные'}</td>\n",
       "      <td>12790</td>\n",
       "      <td>Велосипед Challenger Desperado Lux 20\" Red</td>\n",
       "      <td>1</td>\n",
       "      <td>217</td>\n",
       "      <td>(202, 252]</td>\n",
       "    </tr>\n",
       "    <tr>\n",
       "      <th>3</th>\n",
       "      <td>432</td>\n",
       "      <td>266</td>\n",
       "      <td>34434393</td>\n",
       "      <td>7</td>\n",
       "      <td>3</td>\n",
       "      <td>0.001138</td>\n",
       "      <td>0</td>\n",
       "      <td>2015-05-15 16:20:04</td>\n",
       "      <td>1128821</td>\n",
       "      <td>352247</td>\n",
       "      <td>...</td>\n",
       "      <td>4</td>\n",
       "      <td>16</td>\n",
       "      <td>NaN</td>\n",
       "      <td>4</td>\n",
       "      <td>{156:'Горные'}</td>\n",
       "      <td>20720</td>\n",
       "      <td>Женский горный велосипед Head Tacoma 1 26\"</td>\n",
       "      <td>1</td>\n",
       "      <td>352</td>\n",
       "      <td>(302, 352]</td>\n",
       "    </tr>\n",
       "    <tr>\n",
       "      <th>4</th>\n",
       "      <td>774</td>\n",
       "      <td>478</td>\n",
       "      <td>13178651</td>\n",
       "      <td>1</td>\n",
       "      <td>3</td>\n",
       "      <td>0.007233</td>\n",
       "      <td>0</td>\n",
       "      <td>2015-04-26 23:57:43</td>\n",
       "      <td>1010147</td>\n",
       "      <td>3589259</td>\n",
       "      <td>...</td>\n",
       "      <td>6</td>\n",
       "      <td>23</td>\n",
       "      <td>NaN</td>\n",
       "      <td>4</td>\n",
       "      <td>{156:'Дорожные'}</td>\n",
       "      <td>15690</td>\n",
       "      <td>Велосипед Forward Jade 2.0 Disk 17\" White matt</td>\n",
       "      <td>1</td>\n",
       "      <td>267</td>\n",
       "      <td>(252, 302]</td>\n",
       "    </tr>\n",
       "  </tbody>\n",
       "</table>\n",
       "<p>5 rows × 28 columns</p>\n",
       "</div>"
      ],
      "text/plain": [
       "   Unnamed: 0  SearchID      AdID  Position  ObjectType   HistCTR  IsClick  \\\n",
       "0          89        57  12340121         7           3  0.003769        0   \n",
       "1          90        57  19750772         1           3  0.025855        0   \n",
       "2         431       266   3177885         1           3  0.006842        0   \n",
       "3         432       266  34434393         7           3  0.001138        0   \n",
       "4         774       478  13178651         1           3  0.007233        0   \n",
       "\n",
       "           SearchDate     IPID   UserID     ...      weekday hour  \\\n",
       "0 2015-05-07 19:01:12   316678  2422934     ...            3   19   \n",
       "1 2015-05-07 19:01:12   316678  2422934     ...            3   19   \n",
       "2 2015-05-15 16:20:04  1128821   352247     ...            4   16   \n",
       "3 2015-05-15 16:20:04  1128821   352247     ...            4   16   \n",
       "4 2015-04-26 23:57:43  1010147  3589259     ...            6   23   \n",
       "\n",
       "   LocationID_y  CategoryID_y            Params  Price  \\\n",
       "0           NaN             4    {156:'Горные'}  31145   \n",
       "1           NaN             4  {156:'Дорожные'}  10690   \n",
       "2           NaN             4  {156:'Дорожные'}  12790   \n",
       "3           NaN             4    {156:'Горные'}  20720   \n",
       "4           NaN             4  {156:'Дорожные'}  15690   \n",
       "\n",
       "                                            Title  IsContext  USD   price_bin  \n",
       "0         Горный велосипед Head Troy 2 26\" (2014)          1  529  (502, 552]  \n",
       "1   Велосипед Forward Volcano 365 RS35/TY18 Black          1  182  (152, 202]  \n",
       "2      Велосипед Challenger Desperado Lux 20\" Red          1  217  (202, 252]  \n",
       "3      Женский горный велосипед Head Tacoma 1 26\"          1  352  (302, 352]  \n",
       "4  Велосипед Forward Jade 2.0 Disk 17\" White matt          1  267  (252, 302]  \n",
       "\n",
       "[5 rows x 28 columns]"
      ]
     },
     "execution_count": 125,
     "metadata": {},
     "output_type": "execute_result"
    }
   ],
   "source": [
    "bicycle_search_users.col"
   ]
  },
  {
   "cell_type": "code",
   "execution_count": 132,
   "metadata": {},
   "outputs": [],
   "source": [
    "price_bin_count = bicycle_search_users.groupby('price_bin').size()"
   ]
  },
  {
   "cell_type": "code",
   "execution_count": 152,
   "metadata": {
    "collapsed": true
   },
   "outputs": [],
   "source": [
    "# Make the Farmatting of price bins look nicer\n",
    "def format_bins(text):\n",
    "    text = text.replace('(', '[').replace(',', ' -')\n",
    "    return text"
   ]
  },
  {
   "cell_type": "code",
   "execution_count": 153,
   "metadata": {},
   "outputs": [
    {
     "data": {
      "text/plain": [
       "'[2 - 52]'"
      ]
     },
     "execution_count": 153,
     "metadata": {},
     "output_type": "execute_result"
    }
   ],
   "source": [
    "format_bins(price_bin_df['price_bin'][0])"
   ]
  },
  {
   "cell_type": "code",
   "execution_count": 134,
   "metadata": {
    "collapsed": true
   },
   "outputs": [],
   "source": [
    "price_bin_clicks = bicycle_search_users.groupby('price_bin')['IsClick'].sum()"
   ]
  },
  {
   "cell_type": "code",
   "execution_count": 137,
   "metadata": {},
   "outputs": [],
   "source": [
    "price_bin_clicks = price_bin_clicks.fillna(0)"
   ]
  },
  {
   "cell_type": "code",
   "execution_count": null,
   "metadata": {
    "collapsed": true
   },
   "outputs": [],
   "source": [
    "# Create price_bin DF with Impressions & Clicks"
   ]
  },
  {
   "cell_type": "code",
   "execution_count": 145,
   "metadata": {
    "collapsed": true
   },
   "outputs": [],
   "source": [
    "price_bin_df = pd.DataFrame({'price_bin':price_bin_count.index,'count':price_bin_count.values})"
   ]
  },
  {
   "cell_type": "code",
   "execution_count": 146,
   "metadata": {
    "collapsed": true
   },
   "outputs": [],
   "source": [
    "price_bin_df['clicks'] = price_bin_clicks.values"
   ]
  },
  {
   "cell_type": "code",
   "execution_count": 156,
   "metadata": {},
   "outputs": [],
   "source": [
    "price_bin_df['price_bin'] = price_bin_df['price_bin'].apply(lambda x:format_bins(x))"
   ]
  },
  {
   "cell_type": "code",
   "execution_count": null,
   "metadata": {
    "collapsed": true
   },
   "outputs": [],
   "source": [
    "# Save DF to CSV"
   ]
  },
  {
   "cell_type": "code",
   "execution_count": 159,
   "metadata": {
    "collapsed": true
   },
   "outputs": [],
   "source": [
    "price_bin_df.to_csv('price_bin_data.csv')"
   ]
  },
  {
   "cell_type": "code",
   "execution_count": 160,
   "metadata": {},
   "outputs": [
    {
     "data": {
      "text/html": [
       "<div>\n",
       "<table border=\"1\" class=\"dataframe\">\n",
       "  <thead>\n",
       "    <tr style=\"text-align: right;\">\n",
       "      <th></th>\n",
       "      <th>Unnamed: 0</th>\n",
       "      <th>SearchID</th>\n",
       "      <th>AdID</th>\n",
       "      <th>Position</th>\n",
       "      <th>ObjectType</th>\n",
       "      <th>HistCTR</th>\n",
       "      <th>IsClick</th>\n",
       "      <th>SearchDate</th>\n",
       "      <th>IPID</th>\n",
       "      <th>UserID</th>\n",
       "      <th>IsUserLoggedOn</th>\n",
       "      <th>SearchQuery</th>\n",
       "      <th>LocationID</th>\n",
       "      <th>CategoryID</th>\n",
       "      <th>SearchParams</th>\n",
       "      <th>year</th>\n",
       "      <th>month</th>\n",
       "      <th>day</th>\n",
       "      <th>weekday</th>\n",
       "      <th>hour</th>\n",
       "    </tr>\n",
       "  </thead>\n",
       "  <tbody>\n",
       "    <tr>\n",
       "      <th>0</th>\n",
       "      <td>0</td>\n",
       "      <td>2</td>\n",
       "      <td>11441863</td>\n",
       "      <td>1</td>\n",
       "      <td>3</td>\n",
       "      <td>0.001804</td>\n",
       "      <td>0</td>\n",
       "      <td>2015-05-12 14:21:28</td>\n",
       "      <td>1731568</td>\n",
       "      <td>769304</td>\n",
       "      <td>0</td>\n",
       "      <td>NaN</td>\n",
       "      <td>697</td>\n",
       "      <td>50</td>\n",
       "      <td>NaN</td>\n",
       "      <td>2015</td>\n",
       "      <td>5</td>\n",
       "      <td>12</td>\n",
       "      <td>1</td>\n",
       "      <td>14</td>\n",
       "    </tr>\n",
       "    <tr>\n",
       "      <th>1</th>\n",
       "      <td>1</td>\n",
       "      <td>2</td>\n",
       "      <td>22968355</td>\n",
       "      <td>7</td>\n",
       "      <td>3</td>\n",
       "      <td>0.004723</td>\n",
       "      <td>0</td>\n",
       "      <td>2015-05-12 14:21:28</td>\n",
       "      <td>1731568</td>\n",
       "      <td>769304</td>\n",
       "      <td>0</td>\n",
       "      <td>NaN</td>\n",
       "      <td>697</td>\n",
       "      <td>50</td>\n",
       "      <td>NaN</td>\n",
       "      <td>2015</td>\n",
       "      <td>5</td>\n",
       "      <td>12</td>\n",
       "      <td>1</td>\n",
       "      <td>14</td>\n",
       "    </tr>\n",
       "    <tr>\n",
       "      <th>2</th>\n",
       "      <td>2</td>\n",
       "      <td>3</td>\n",
       "      <td>212187</td>\n",
       "      <td>7</td>\n",
       "      <td>3</td>\n",
       "      <td>0.029701</td>\n",
       "      <td>0</td>\n",
       "      <td>2015-05-12 07:09:42</td>\n",
       "      <td>793143</td>\n",
       "      <td>640089</td>\n",
       "      <td>0</td>\n",
       "      <td>NaN</td>\n",
       "      <td>1261</td>\n",
       "      <td>12</td>\n",
       "      <td>NaN</td>\n",
       "      <td>2015</td>\n",
       "      <td>5</td>\n",
       "      <td>12</td>\n",
       "      <td>1</td>\n",
       "      <td>7</td>\n",
       "    </tr>\n",
       "    <tr>\n",
       "      <th>3</th>\n",
       "      <td>3</td>\n",
       "      <td>3</td>\n",
       "      <td>34084553</td>\n",
       "      <td>1</td>\n",
       "      <td>3</td>\n",
       "      <td>0.004300</td>\n",
       "      <td>0</td>\n",
       "      <td>2015-05-12 07:09:42</td>\n",
       "      <td>793143</td>\n",
       "      <td>640089</td>\n",
       "      <td>0</td>\n",
       "      <td>NaN</td>\n",
       "      <td>1261</td>\n",
       "      <td>12</td>\n",
       "      <td>NaN</td>\n",
       "      <td>2015</td>\n",
       "      <td>5</td>\n",
       "      <td>12</td>\n",
       "      <td>1</td>\n",
       "      <td>7</td>\n",
       "    </tr>\n",
       "    <tr>\n",
       "      <th>4</th>\n",
       "      <td>4</td>\n",
       "      <td>4</td>\n",
       "      <td>20653823</td>\n",
       "      <td>1</td>\n",
       "      <td>3</td>\n",
       "      <td>0.003049</td>\n",
       "      <td>0</td>\n",
       "      <td>2015-05-10 18:11:01</td>\n",
       "      <td>898705</td>\n",
       "      <td>3573776</td>\n",
       "      <td>0</td>\n",
       "      <td>NaN</td>\n",
       "      <td>3960</td>\n",
       "      <td>22</td>\n",
       "      <td>{83:'Обувь', 175:'Женская одежда', 88:'38'}</td>\n",
       "      <td>2015</td>\n",
       "      <td>5</td>\n",
       "      <td>10</td>\n",
       "      <td>6</td>\n",
       "      <td>18</td>\n",
       "    </tr>\n",
       "  </tbody>\n",
       "</table>\n",
       "</div>"
      ],
      "text/plain": [
       "   Unnamed: 0  SearchID      AdID  Position  ObjectType   HistCTR  IsClick  \\\n",
       "0           0         2  11441863         1           3  0.001804        0   \n",
       "1           1         2  22968355         7           3  0.004723        0   \n",
       "2           2         3    212187         7           3  0.029701        0   \n",
       "3           3         3  34084553         1           3  0.004300        0   \n",
       "4           4         4  20653823         1           3  0.003049        0   \n",
       "\n",
       "           SearchDate     IPID   UserID  IsUserLoggedOn SearchQuery  \\\n",
       "0 2015-05-12 14:21:28  1731568   769304               0         NaN   \n",
       "1 2015-05-12 14:21:28  1731568   769304               0         NaN   \n",
       "2 2015-05-12 07:09:42   793143   640089               0         NaN   \n",
       "3 2015-05-12 07:09:42   793143   640089               0         NaN   \n",
       "4 2015-05-10 18:11:01   898705  3573776               0         NaN   \n",
       "\n",
       "   LocationID  CategoryID                                 SearchParams  year  \\\n",
       "0         697          50                                          NaN  2015   \n",
       "1         697          50                                          NaN  2015   \n",
       "2        1261          12                                          NaN  2015   \n",
       "3        1261          12                                          NaN  2015   \n",
       "4        3960          22  {83:'Обувь', 175:'Женская одежда', 88:'38'}  2015   \n",
       "\n",
       "   month  day  weekday  hour  \n",
       "0      5   12        1    14  \n",
       "1      5   12        1    14  \n",
       "2      5   12        1     7  \n",
       "3      5   12        1     7  \n",
       "4      5   10        6    18  "
      ]
     },
     "execution_count": 160,
     "metadata": {},
     "output_type": "execute_result"
    }
   ],
   "source": [
    "df.head()"
   ]
  },
  {
   "cell_type": "code",
   "execution_count": null,
   "metadata": {
    "collapsed": true
   },
   "outputs": [],
   "source": []
  }
 ],
 "metadata": {
  "anaconda-cloud": {},
  "kernelspec": {
   "display_name": "Python 3",
   "language": "python",
   "name": "python3"
  },
  "language_info": {
   "codemirror_mode": {
    "name": "ipython",
    "version": 3
   },
   "file_extension": ".py",
   "mimetype": "text/x-python",
   "name": "python",
   "nbconvert_exporter": "python",
   "pygments_lexer": "ipython3",
   "version": "3.6.2"
  }
 },
 "nbformat": 4,
 "nbformat_minor": 1
}
